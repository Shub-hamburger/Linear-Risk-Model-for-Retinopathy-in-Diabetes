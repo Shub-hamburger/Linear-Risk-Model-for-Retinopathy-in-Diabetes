{
 "cells": [
  {
   "cell_type": "markdown",
   "metadata": {},
   "source": [
    "# Linear Risk model for Retinopathy in diabetes"
   ]
  },
  {
   "cell_type": "markdown",
   "metadata": {
    "colab_type": "text",
    "id": "DU20mFeib5Kd"
   },
   "source": [
    "### Diabetic Retinopathy\n",
    "Retinopathy is an eye condition that causes changes to the blood vessels in the part of the eye called the retina.\n",
    "This often leads to vision changes or blindness.\n",
    "Diabetic patients are known to be at high risk for retinopathy. "
   ]
  },
  {
   "cell_type": "markdown",
   "metadata": {
    "colab_type": "text",
    "id": "pzuRKOt1cU8B"
   },
   "source": [
    "### Import Packages"
   ]
  },
  {
   "cell_type": "code",
   "execution_count": 1,
   "metadata": {
    "colab": {},
    "colab_type": "code",
    "id": "qHjB-KVmwmtR"
   },
   "outputs": [],
   "source": [
    "import numpy as np\n",
    "import pandas as pd\n",
    "import matplotlib.pyplot as plt"
   ]
  },
  {
   "cell_type": "markdown",
   "metadata": {
    "colab_type": "text",
    "id": "3J7NXuQadLnY"
   },
   "source": [
    "### Load Data"
   ]
  },
  {
   "cell_type": "code",
   "execution_count": 2,
   "metadata": {
    "colab": {},
    "colab_type": "code",
    "id": "FN5Y5hU5yXnE"
   },
   "outputs": [],
   "source": [
    "X = pd.read_csv('X_data.csv',index_col=0)\n",
    "y_df = pd.read_csv('y_data.csv',index_col=0)\n",
    "y = y_df['y']"
   ]
  },
  {
   "cell_type": "markdown",
   "metadata": {
    "colab_type": "text",
    "id": "5yF06E6sZMmD"
   },
   "source": [
    "`X` and `y` are Pandas DataFrames that hold the data for 6,000 diabetic patients. "
   ]
  },
  {
   "cell_type": "markdown",
   "metadata": {},
   "source": [
    "### Explore the Dataset\n",
    "\n",
    "The features (`X`) include the following fields:\n",
    "* Age: (years)\n",
    "* Systolic_BP: Systolic blood pressure (mmHg)\n",
    "* Diastolic_BP: Diastolic blood pressure (mmHg)\n",
    "* Cholesterol: (mg/DL)\n",
    "    \n",
    "We can use the `head()` method to display the first few records of each.    "
   ]
  },
  {
   "cell_type": "code",
   "execution_count": 3,
   "metadata": {
    "colab": {
     "base_uri": "https://localhost:8080/",
     "height": 204
    },
    "colab_type": "code",
    "id": "qp1SgI7PT024",
    "outputId": "3ff454c2-65fb-4fea-858a-647c7a5d750d"
   },
   "outputs": [
    {
     "data": {
      "text/html": [
       "<div>\n",
       "<style scoped>\n",
       "    .dataframe tbody tr th:only-of-type {\n",
       "        vertical-align: middle;\n",
       "    }\n",
       "\n",
       "    .dataframe tbody tr th {\n",
       "        vertical-align: top;\n",
       "    }\n",
       "\n",
       "    .dataframe thead th {\n",
       "        text-align: right;\n",
       "    }\n",
       "</style>\n",
       "<table border=\"1\" class=\"dataframe\">\n",
       "  <thead>\n",
       "    <tr style=\"text-align: right;\">\n",
       "      <th></th>\n",
       "      <th>Age</th>\n",
       "      <th>Systolic_BP</th>\n",
       "      <th>Diastolic_BP</th>\n",
       "      <th>Cholesterol</th>\n",
       "    </tr>\n",
       "  </thead>\n",
       "  <tbody>\n",
       "    <tr>\n",
       "      <th>0</th>\n",
       "      <td>77.196340</td>\n",
       "      <td>85.288742</td>\n",
       "      <td>80.021878</td>\n",
       "      <td>79.957109</td>\n",
       "    </tr>\n",
       "    <tr>\n",
       "      <th>1</th>\n",
       "      <td>63.529850</td>\n",
       "      <td>99.379736</td>\n",
       "      <td>84.852361</td>\n",
       "      <td>110.382411</td>\n",
       "    </tr>\n",
       "    <tr>\n",
       "      <th>2</th>\n",
       "      <td>69.003986</td>\n",
       "      <td>111.349455</td>\n",
       "      <td>109.850616</td>\n",
       "      <td>100.828246</td>\n",
       "    </tr>\n",
       "    <tr>\n",
       "      <th>3</th>\n",
       "      <td>82.638210</td>\n",
       "      <td>95.056128</td>\n",
       "      <td>79.666851</td>\n",
       "      <td>87.066303</td>\n",
       "    </tr>\n",
       "    <tr>\n",
       "      <th>4</th>\n",
       "      <td>78.346286</td>\n",
       "      <td>109.154591</td>\n",
       "      <td>90.713220</td>\n",
       "      <td>92.511770</td>\n",
       "    </tr>\n",
       "  </tbody>\n",
       "</table>\n",
       "</div>"
      ],
      "text/plain": [
       "         Age  Systolic_BP  Diastolic_BP  Cholesterol\n",
       "0  77.196340    85.288742     80.021878    79.957109\n",
       "1  63.529850    99.379736     84.852361   110.382411\n",
       "2  69.003986   111.349455    109.850616   100.828246\n",
       "3  82.638210    95.056128     79.666851    87.066303\n",
       "4  78.346286   109.154591     90.713220    92.511770"
      ]
     },
     "execution_count": 3,
     "metadata": {},
     "output_type": "execute_result"
    }
   ],
   "source": [
    "X.head()"
   ]
  },
  {
   "cell_type": "markdown",
   "metadata": {
    "colab_type": "text",
    "id": "Q0o8DaDayXnM"
   },
   "source": [
    "The target (`y`) is an indicator of whether or not the patient developed retinopathy.\n",
    "\n",
    "* y = 1 : patient has retinopathy.\n",
    "* y = 0 : patient does not have retinopathy."
   ]
  },
  {
   "cell_type": "code",
   "execution_count": 4,
   "metadata": {
    "colab": {
     "base_uri": "https://localhost:8080/",
     "height": 119
    },
    "colab_type": "code",
    "id": "2d6L8BHO3-QJ",
    "outputId": "1b58dfe9-178e-491d-e2cb-738b083a1db7"
   },
   "outputs": [
    {
     "data": {
      "text/plain": [
       "0    1.0\n",
       "1    1.0\n",
       "2    1.0\n",
       "3    1.0\n",
       "4    1.0\n",
       "Name: y, dtype: float64"
      ]
     },
     "execution_count": 4,
     "metadata": {},
     "output_type": "execute_result"
    }
   ],
   "source": [
    "y.head()"
   ]
  },
  {
   "cell_type": "markdown",
   "metadata": {
    "colab_type": "text",
    "id": "DAobb_-hFtAn"
   },
   "source": [
    "The data has been splitted into train and test sets using a 75/25 split.\n",
    "For this, we can use the built in function provided by sklearn library."
   ]
  },
  {
   "cell_type": "code",
   "execution_count": 5,
   "metadata": {
    "colab": {},
    "colab_type": "code",
    "id": "C9FxG6hDyXnQ"
   },
   "outputs": [],
   "source": [
    "from sklearn.model_selection import train_test_split"
   ]
  },
  {
   "cell_type": "code",
   "execution_count": 6,
   "metadata": {
    "colab": {},
    "colab_type": "code",
    "id": "1fvqevMtFsHh"
   },
   "outputs": [],
   "source": [
    "X_train_raw, X_test_raw, y_train, y_test = train_test_split(X, y, train_size=0.75, random_state=0)"
   ]
  },
  {
   "cell_type": "markdown",
   "metadata": {
    "colab_type": "text",
    "id": "nYgcS0vjdbpc"
   },
   "source": [
    "Histograms of each column of `X_train`"
   ]
  },
  {
   "cell_type": "code",
   "execution_count": 7,
   "metadata": {
    "colab": {
     "base_uri": "https://localhost:8080/",
     "height": 1000
    },
    "colab_type": "code",
    "id": "EBckdYHyUudi",
    "outputId": "2e987230-a0eb-40d1-f3a6-ac943cbedf4d"
   },
   "outputs": [
    {
     "data": {
      "image/png": "[encoded data removed]",
      "text/plain": [
       "<Figure size 432x288 with 1 Axes>"
      ]
     },
     "metadata": {
      "needs_background": "light"
     },
     "output_type": "display_data"
    },
    {
     "data": {
      "image/png": "[encoded data removed]",
      "text/plain": [
       "<Figure size 432x288 with 1 Axes>"
      ]
     },
     "metadata": {
      "needs_background": "light"
     },
     "output_type": "display_data"
    },
    {
     "data": {
      "image/png": "[encoded data removed]",
      "text/plain": [
       "<Figure size 432x288 with 1 Axes>"
      ]
     },
     "metadata": {
      "needs_background": "light"
     },
     "output_type": "display_data"
    },
    {
     "data": {
      "image/png": "[encoded data removed]",
      "text/plain": [
       "<Figure size 432x288 with 1 Axes>"
      ]
     },
     "metadata": {
      "needs_background": "light"
     },
     "output_type": "display_data"
    }
   ],
   "source": [
    "for col in X.columns:\n",
    "    X_train_raw.loc[:, col].hist()\n",
    "    plt.title(col)\n",
    "    plt.show()"
   ]
  },
  {
   "cell_type": "markdown",
   "metadata": {},
   "source": [
    "As we can see, the distributions have a generally bell shaped distribution, but with slight rightward skew.\n",
    "We can transform our data to be closer to a normal distribution by removing the skew. We can do this by applying the log function to the data. \n",
    "Let's plot the log of the feature variables to see that it produces the desired effect."
   ]
  },
  {
   "cell_type": "code",
   "execution_count": 8,
   "metadata": {
    "colab": {
     "base_uri": "https://localhost:8080/",
     "height": 1000
    },
    "colab_type": "code",
    "id": "r3fiFAipU9nm",
    "outputId": "c46e9627-4db9-4992-8736-ba974ffadde0"
   },
   "outputs": [
    {
     "data": {
      "image/png": "[encoded data removed]",
      "text/plain": [
       "<Figure size 432x288 with 1 Axes>"
      ]
     },
     "metadata": {
      "needs_background": "light"
     },
     "output_type": "display_data"
    },
    {
     "data": {
      "image/png": "[encoded data removed]",
      "text/plain": [
       "<Figure size 432x288 with 1 Axes>"
      ]
     },
     "metadata": {
      "needs_background": "light"
     },
     "output_type": "display_data"
    },
    {
     "data": {
      "image/png": "[encoded data removed]",
      "text/plain": [
       "<Figure size 432x288 with 1 Axes>"
      ]
     },
     "metadata": {
      "needs_background": "light"
     },
     "output_type": "display_data"
    },
    {
     "data": {
      "image/png": "[encoded data removed]",
      "text/plain": [
       "<Figure size 432x288 with 1 Axes>"
      ]
     },
     "metadata": {
      "needs_background": "light"
     },
     "output_type": "display_data"
    }
   ],
   "source": [
    "for col in X_train_raw.columns:\n",
    "    np.log(X_train_raw.loc[:, col]).hist()\n",
    "    plt.title(col)\n",
    "    plt.show()"
   ]
  },
  {
   "cell_type": "markdown",
   "metadata": {
    "colab_type": "text",
    "id": "84vqBnYZT80j"
   },
   "source": [
    "We can see that the data is more symmetric after taking the log."
   ]
  },
  {
   "cell_type": "markdown",
   "metadata": {
    "colab_type": "text",
    "id": "gnj1zUmaG94h"
   },
   "source": [
    "### Mean-Normalize the Data\n",
    "\n",
    "Let's now transform our data so that the distributions are closer to standard normal distributions.\n",
    "\n",
    "First we will remove some of the skew from the distribution by using the log transformation.\n",
    "Then we will \"standardize\" the distribution so that it has a mean of zero and standard deviation of 1. It is so because a standard normal distribution has mean of zero and standard deviation of 1. \n"
   ]
  },
  {
   "cell_type": "code",
   "execution_count": 9,
   "metadata": {
    "colab": {},
    "colab_type": "code",
    "id": "wwqPOiZGRfhv"
   },
   "outputs": [],
   "source": [
    "def make_standard_normal(df_train, df_test):\n",
    "    \n",
    "    # Removing skew by applying the log function to the train set, and to the test set\n",
    "    df_train_unskewed = np.log(df_train)\n",
    "    df_test_unskewed = np.log(df_test)\n",
    "    \n",
    "    # Calculating the mean and standard deviation of the training set\n",
    "    mean = df_train_unskewed.mean(axis = 0)\n",
    "    stdev = df_train_unskewed.std(axis = 0)\n",
    "    \n",
    "    # Standardizing the training set\n",
    "    df_train_standardized = (df_train_unskewed-mean)/stdev\n",
    "    \n",
    "    # Standardizing the test set\n",
    "    df_test_standardized = (df_test_unskewed-mean)/stdev\n",
    "    \n",
    "    return df_train_standardized, df_test_standardized"
   ]
  },
  {
   "cell_type": "markdown",
   "metadata": {
    "colab_type": "text",
    "id": "gran7yoORxQ9"
   },
   "source": [
    "#### Transform training and test data \n",
    "Using the function implemented above."
   ]
  },
  {
   "cell_type": "code",
   "execution_count": 10,
   "metadata": {
    "colab": {},
    "colab_type": "code",
    "id": "DDC2ThP_K3Ea"
   },
   "outputs": [],
   "source": [
    "X_train, X_test = make_standard_normal(X_train_raw, X_test_raw)"
   ]
  },
  {
   "cell_type": "markdown",
   "metadata": {
    "colab_type": "text",
    "id": "ovLMYBz6dteZ"
   },
   "source": [
    "### Building the Model"
   ]
  },
  {
   "cell_type": "code",
   "execution_count": 11,
   "metadata": {
    "colab": {},
    "colab_type": "code",
    "id": "iLvr0IgoyXnz"
   },
   "outputs": [],
   "source": [
    "def lr_model(X_train, y_train):\n",
    "    \n",
    "    # Importing the LogisticRegression class\n",
    "    from sklearn.linear_model import LogisticRegression\n",
    "    \n",
    "    # Creating the model object\n",
    "    model = LogisticRegression()\n",
    "    \n",
    "    # Fitting the model to the training data\n",
    "    model.fit(X_train,y_train)\n",
    "    \n",
    "    return model"
   ]
  },
  {
   "cell_type": "code",
   "execution_count": 12,
   "metadata": {
    "colab": {},
    "colab_type": "code",
    "id": "sG6nr4hCyXn2"
   },
   "outputs": [],
   "source": [
    "model_X = lr_model(X_train, y_train)"
   ]
  },
  {
   "cell_type": "markdown",
   "metadata": {
    "colab_type": "text",
    "id": "YI34GRSgeAaL"
   },
   "source": [
    "### Evaluate the Model Using the C-index\n",
    "\n",
    "* The c-index measures the discriminatory power of a risk score. \n",
    "* Intuitively, a higher c-index indicates that the model's prediction is in agreement with the actual outcomes of a pair of patients.\n",
    "* The formula for the c-index is\n",
    "\n",
    "$$ \\mbox{cindex} = \\frac{\\mbox{concordant} + 0.5 \\times \\mbox{ties}}{\\mbox{permissible}} $$\n",
    "\n",
    "* A permissible pair is a pair of patients who have different outcomes.\n",
    "* A concordant pair is a permissible pair in which the patient with the higher risk score also has the worse outcome.\n",
    "* A tie is a permissible pair where the patients have the same risk score.\n"
   ]
  },
  {
   "cell_type": "markdown",
   "metadata": {},
   "source": [
    "#### Insights\n",
    "* `y_true` is the array of actual patient outcomes, 0 if the patient does not eventually get the disease, and 1 if the patient eventually gets the disease.\n",
    "* `scores` is the risk score of each patient.  These provide relative measures of risk, so they can be any real numbers. By convention, they are always non-negative.\n",
    "* Here is an example of input data and how to interpret it:\n",
    "```Python\n",
    "y_true = [0,1]\n",
    "scores = [0.45, 1.25]\n",
    "```\n",
    "    * There are two patients. Index 0 of each array is associated with patient 0.  Index 1 is associated with patient 1.\n",
    "    * Patient 0 does not have the disease in the future (`y_true` is 0), and based on past information, has a risk score of 0.45.\n",
    "    * Patient 1 has the disease at some point in the future (`y_true` is 1), and based on past information, has a risk score of 1.25."
   ]
  },
  {
   "cell_type": "code",
   "execution_count": 13,
   "metadata": {
    "colab": {},
    "colab_type": "code",
    "id": "a6fzYxG0R7Sp"
   },
   "outputs": [],
   "source": [
    "def cindex(y_true, scores):\n",
    "    n = len(y_true)\n",
    "    assert len(scores) == n\n",
    "\n",
    "    concordant = 0\n",
    "    permissible = 0\n",
    "    ties = 0\n",
    "    \n",
    "    # Two nested for loops to go through all unique pairs of patients\n",
    "    for i in range(n):\n",
    "        for j in range(i+1, n):\n",
    "            \n",
    "            # Checking if the pair is permissible (the patient outcomes are different)\n",
    "            if y_true[i] != y_true[j]:\n",
    "                # Counting the pair if it's permissible\n",
    "                permissible += 1\n",
    "\n",
    "                # For permissible pairs, checking if they are concordant or are ties\n",
    "\n",
    "                # Checking for ties in the score\n",
    "                if scores[i] == scores[j]:\n",
    "                    # Counting the tie\n",
    "                    ties += 1\n",
    "                    # If it's a tie, we don't need to check patient outcomes, continue to the top of the for loop.\n",
    "                    continue\n",
    "\n",
    "                # Case 1: Patient i doesn't get the disease, patient j does\n",
    "                if y_true[i] == 0 and y_true[j] == 1:\n",
    "                    # Checking if patient i has a lower risk score than patient j\n",
    "                    if scores[i] < scores[j]:\n",
    "                        # Counting the concordant pair\n",
    "                        concordant += 1\n",
    "                    # Otherwise if patient i has a higher risk score, it's not a concordant pair.\n",
    "                    # Already checked for ties earlier\n",
    "\n",
    "                # Case 2: Patient i gets the disease, patient j does not\n",
    "                if y_true[i] == 1 and y_true[j] == 0:\n",
    "                    # Checking if patient i has a higher risk score than patient j\n",
    "                    if scores[i] > scores[j]:\n",
    "                        #Counting the concordant pair\n",
    "                        concordant += 1\n",
    "                    # Otherwise if patient i has a lower risk score, it's not a concordant pair.\n",
    "                    # Already checked for ties earlier\n",
    "\n",
    "    # Calculating the c-index using the count of permissible pairs, concordant pairs, and tied pairs.\n",
    "    c_index = (concordant + (0.5 * ties)) / permissible\n",
    "    \n",
    "    return c_index"
   ]
  },
  {
   "cell_type": "markdown",
   "metadata": {
    "colab_type": "text",
    "id": "GOEaZigmOPVF"
   },
   "source": [
    "### Evaluate the Model on the Test Set\n",
    "\n",
    "Now, you can evaluate our trained model on the test set.  \n",
    "\n",
    "To get the predicted probabilities, we use the `predict_proba` method. This method will return the result from the model *before* it is converted to a binary 0 or 1. For each input case, it returns an array of two values which represent the probabilities for both the negative case (patient does not get the disease) and positive case (patient the gets the disease). "
   ]
  },
  {
   "cell_type": "code",
   "execution_count": 14,
   "metadata": {
    "colab": {
     "base_uri": "https://localhost:8080/",
     "height": 34
    },
    "colab_type": "code",
    "id": "_J5TbdH_LSjB",
    "outputId": "e5b8802a-8c41-4f7f-e3ba-428c6cfb5f87"
   },
   "outputs": [
    {
     "name": "stdout",
     "output_type": "stream",
     "text": [
      "c-index on test set is 0.8182\n"
     ]
    }
   ],
   "source": [
    "scores = model_X.predict_proba(X_test)[:, 1]\n",
    "c_index_X_test = cindex(y_test.values, scores)\n",
    "print(f\"c-index on test set is {c_index_X_test:.4f}\")"
   ]
  },
  {
   "cell_type": "markdown",
   "metadata": {
    "colab_type": "text",
    "id": "-BC_HAM6MXWU"
   },
   "source": [
    "Let's plot the coefficients to see which variables (patient features) are having the most effect."
   ]
  },
  {
   "cell_type": "code",
   "execution_count": 15,
   "metadata": {
    "colab": {
     "base_uri": "https://localhost:8080/",
     "height": 316
    },
    "colab_type": "code",
    "id": "lZeo6AJbMdCq",
    "outputId": "613b4ce8-2d04-40b1-e2ce-d2232a62005f"
   },
   "outputs": [
    {
     "data": {
      "image/png": "[encoded data removed]",
      "text/plain": [
       "<Figure size 432x288 with 1 Axes>"
      ]
     },
     "metadata": {
      "needs_background": "light"
     },
     "output_type": "display_data"
    }
   ],
   "source": [
    "coeffs = pd.DataFrame(data = model_X.coef_, columns = X_train.columns)\n",
    "coeffs.T.plot.bar(legend=None);"
   ]
  },
  {
   "cell_type": "markdown",
   "metadata": {
    "colab_type": "text",
    "id": "7KbLT-zkNgLT"
   },
   "source": [
    "###  Improve the Model\n",
    "\n",
    "Interaction terms improve the models performance.\n",
    "* An interaction term is the product of two variables. \n",
    "    * For example, if we have data \n",
    "    $$ x = [x_1, x_2]$$\n",
    "    * We could add the product so that:\n",
    "    $$ \\hat{x} = [x_1, x_2, x_1*x_2]$$\n",
    "    "
   ]
  },
  {
   "cell_type": "code",
   "execution_count": 17,
   "metadata": {
    "colab": {},
    "colab_type": "code",
    "id": "biuVl-lGSaJp"
   },
   "outputs": [],
   "source": [
    "def add_interactions(X):\n",
    "    \n",
    "    features = X.columns\n",
    "    m = len(features)\n",
    "    X_int = X.copy(deep=True)\n",
    "\n",
    "    # 'i' loops through all features in the original dataframe X\n",
    "    for i in range(m):\n",
    "        \n",
    "        # Name of feature 'i'\n",
    "        feature_i_name = features[i]\n",
    "        \n",
    "        # Data for feature 'i'\n",
    "        feature_i_data = X_int.iloc[:,i]\n",
    "        \n",
    "        for j in range(i+1, m):\n",
    "            \n",
    "            # Name of feature 'j'\n",
    "            feature_j_name = features[j]\n",
    "            \n",
    "            # Data for feature j'\n",
    "            feature_j_data = X_int.iloc[:,j]\n",
    "            \n",
    "            # Name of the interaction feature by combining both names\n",
    "            feature_i_j_name = f\"{feature_i_name}_x_{feature_j_name}\"\n",
    "            \n",
    "            # Multiplying the data for feature 'i' and feature 'j'\n",
    "            X_int[feature_i_j_name] = feature_i_data * feature_j_data\n",
    "\n",
    "    return X_int"
   ]
  },
  {
   "cell_type": "markdown",
   "metadata": {
    "colab_type": "text",
    "id": "rKKiFF5Pdwtv"
   },
   "source": [
    "Using interaction to transform `X_train` and `X_test`."
   ]
  },
  {
   "cell_type": "code",
   "execution_count": 18,
   "metadata": {
    "colab": {},
    "colab_type": "code",
    "id": "mYcDf7nsd2nh"
   },
   "outputs": [],
   "source": [
    "X_train_int = add_interactions(X_train)\n",
    "X_test_int = add_interactions(X_test)"
   ]
  },
  {
   "cell_type": "markdown",
   "metadata": {
    "colab_type": "text",
    "id": "Y6IgFZWxLqTa"
   },
   "source": [
    "### Evaluate the Improved Model"
   ]
  },
  {
   "cell_type": "code",
   "execution_count": 19,
   "metadata": {},
   "outputs": [],
   "source": [
    "model_X_int = lr_model(X_train_int, y_train)"
   ]
  },
  {
   "cell_type": "markdown",
   "metadata": {},
   "source": [
    "Let's evaluate our new model on the test set."
   ]
  },
  {
   "cell_type": "code",
   "execution_count": 20,
   "metadata": {
    "colab": {
     "base_uri": "https://localhost:8080/",
     "height": 51
    },
    "colab_type": "code",
    "id": "xn7U6_bEfWKI",
    "outputId": "d43fe99f-e3c0-4575-b44c-93efe24917bb"
   },
   "outputs": [
    {
     "name": "stdout",
     "output_type": "stream",
     "text": [
      "c-index on test set without interactions is 0.8182\n",
      "c-index on test set with interactions is 0.8281\n"
     ]
    }
   ],
   "source": [
    "scores_X = model_X.predict_proba(X_test)[:, 1]\n",
    "c_index_X_int_test = cindex(y_test.values, scores_X)\n",
    "\n",
    "scores_X_int = model_X_int.predict_proba(X_test_int)[:, 1]\n",
    "c_index_X_int_test = cindex(y_test.values, scores_X_int)\n",
    "\n",
    "print(f\"c-index on test set without interactions is {c_index_X_test:.4f}\")\n",
    "print(f\"c-index on test set with interactions is {c_index_X_int_test:.4f}\")"
   ]
  },
  {
   "cell_type": "markdown",
   "metadata": {
    "colab_type": "text",
    "id": "-tYVyw-6jLfV"
   },
   "source": [
    "We can see that the model with interaction terms performs a bit better than the model without interactions. But, before jumping to any further conclusions, let's first take another look at the model coefficients to try and see which variables made a difference."
   ]
  },
  {
   "cell_type": "code",
   "execution_count": 21,
   "metadata": {
    "colab": {
     "base_uri": "https://localhost:8080/",
     "height": 389
    },
    "colab_type": "code",
    "id": "9PpyFFqFjRpW",
    "outputId": "9cc3ce2c-3a8a-4d3a-cf76-bef5862cc6c3"
   },
   "outputs": [
    {
     "data": {
      "image/png": "[encoded data removed]",
      "text/plain": [
       "<Figure size 432x288 with 1 Axes>"
      ]
     },
     "metadata": {
      "needs_background": "light"
     },
     "output_type": "display_data"
    }
   ],
   "source": [
    "int_coeffs = pd.DataFrame(data = model_X_int.coef_, columns = X_train_int.columns)\n",
    "int_coeffs.T.plot.bar();"
   ]
  },
  {
   "cell_type": "markdown",
   "metadata": {
    "colab_type": "text",
    "id": "1bvx65OqOCUT"
   },
   "source": [
    "### Inferences:\n",
    "We may notice that Age, Systolic_BP, and Cholesterol have a positive coefficient. This means that a higher value in these three features leads to a higher prediction probability for the disease. We may also notice that the interaction of Age x Cholesterol has a negative coefficient. This means that a higher value for the Age x Cholesterol product reduces the prediction probability for the disease.\n",
    "\n",
    "To understand the effect of interaction terms, let's compare the output of the model we've trained on sample cases with and without the interaction."
   ]
  },
  {
   "cell_type": "code",
   "execution_count": 22,
   "metadata": {
    "colab": {
     "base_uri": "https://localhost:8080/",
     "height": 204
    },
    "colab_type": "code",
    "id": "Xj8v7ZxSShC7",
    "outputId": "0d80937f-7645-4e68-eafa-766b228ed981"
   },
   "outputs": [
    {
     "name": "stdout",
     "output_type": "stream",
     "text": [
      "Age                           2.502061\n",
      "Systolic_BP                   1.713547\n",
      "Diastolic_BP                  0.268265\n",
      "Cholesterol                   2.146349\n",
      "Age_x_Systolic_BP             4.287400\n",
      "Age_x_Diastolic_BP            0.671216\n",
      "Age_x_Cholesterol             5.370296\n",
      "Systolic_BP_x_Diastolic_BP    0.459685\n",
      "Systolic_BP_x_Cholesterol     3.677871\n",
      "Diastolic_BP_x_Cholesterol    0.575791\n",
      "Name: 5970, dtype: float64\n"
     ]
    }
   ],
   "source": [
    "index = index = 3432\n",
    "case = X_train_int.iloc[index, :]\n",
    "print(case)"
   ]
  },
  {
   "cell_type": "markdown",
   "metadata": {
    "colab_type": "text",
    "id": "0LbyZ8a39hSw"
   },
   "source": [
    "We can see that they have above average Age and Cholesterol. We can now see what our original model would have output by zero-ing out the value for Cholesterol and Age."
   ]
  },
  {
   "cell_type": "code",
   "execution_count": 23,
   "metadata": {
    "colab": {
     "base_uri": "https://localhost:8080/",
     "height": 204
    },
    "colab_type": "code",
    "id": "2HcpczwN9sB4",
    "outputId": "8570702b-9b8d-4420-a2dc-0913bc4d84f9"
   },
   "outputs": [
    {
     "data": {
      "text/plain": [
       "Age                           2.502061\n",
       "Systolic_BP                   1.713547\n",
       "Diastolic_BP                  0.268265\n",
       "Cholesterol                   2.146349\n",
       "Age_x_Systolic_BP             4.287400\n",
       "Age_x_Diastolic_BP            0.671216\n",
       "Age_x_Cholesterol             0.000000\n",
       "Systolic_BP_x_Diastolic_BP    0.459685\n",
       "Systolic_BP_x_Cholesterol     3.677871\n",
       "Diastolic_BP_x_Cholesterol    0.575791\n",
       "Name: 5970, dtype: float64"
      ]
     },
     "execution_count": 23,
     "metadata": {},
     "output_type": "execute_result"
    }
   ],
   "source": [
    "new_case = case.copy(deep=True)\n",
    "new_case.loc[\"Age_x_Cholesterol\"] = 0\n",
    "new_case"
   ]
  },
  {
   "cell_type": "code",
   "execution_count": 24,
   "metadata": {
    "colab": {
     "base_uri": "https://localhost:8080/",
     "height": 51
    },
    "colab_type": "code",
    "id": "iasI8KMLmcPO",
    "outputId": "5c7d8884-ae10-4453-9717-d4818d45f0d7"
   },
   "outputs": [
    {
     "name": "stdout",
     "output_type": "stream",
     "text": [
      "Output with interaction: \t0.9448\n",
      "Output without interaction: \t0.9965\n"
     ]
    }
   ],
   "source": [
    "print(f\"Output with interaction: \\t{model_X_int.predict_proba([case.values])[:, 1][0]:.4f}\")\n",
    "print(f\"Output without interaction: \\t{model_X_int.predict_proba([new_case.values])[:, 1][0]:.4f}\")"
   ]
  },
  {
   "cell_type": "markdown",
   "metadata": {
    "colab_type": "text",
    "id": "rdYQijiWnhyZ"
   },
   "source": [
    "We see that the model is less confident in its prediction with the interaction term than without (the prediction value is lower when including the interaction term). With the interaction term, the model has adjusted for the fact that the effect of high cholesterol becomes less important for older patients compared to younger patients. Thus, we must cautious when adding any interaction."
   ]
  }
 ],
 "metadata": {
  "colab": {
   "collapsed_sections": [],
   "include_colab_link": true,
   "name": "C2M1_Assignment.ipynb",
   "provenance": [],
   "toc_visible": true
  },
  "coursera": {
   "schema_names": [
    "AI4MC2-1"
   ]
  },
  "kernelspec": {
   "display_name": "Python 3",
   "language": "python",
   "name": "python3"
  },
  "language_info": {
   "codemirror_mode": {
    "name": "ipython",
    "version": 3
   },
   "file_extension": ".py",
   "mimetype": "text/x-python",
   "name": "python",
   "nbconvert_exporter": "python",
   "pygments_lexer": "ipython3",
   "version": "3.7.6"
  }
 },
 "nbformat": 4,
 "nbformat_minor": 4
}
